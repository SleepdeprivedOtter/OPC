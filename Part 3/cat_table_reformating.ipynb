{
 "cells": [
  {
   "cell_type": "code",
   "execution_count": 1,
   "metadata": {},
   "outputs": [],
   "source": [
    "import pandas as pd\n",
    "from astropy.io import fits"
   ]
  },
  {
   "cell_type": "code",
   "execution_count": 8,
   "metadata": {},
   "outputs": [
    {
     "name": "stdout",
     "output_type": "stream",
     "text": [
      "     X_IMAGE   Y_IMAGE  FLAGS  ALPHA_J2000  DELTA_J2000  FWHM_WORLD  MAG_APER  \\\n",
      "0  1424.6309  319.3016      2   285.766339   -37.408376    0.000570  -13.3001   \n",
      "1  1521.9337  152.5048      0   285.754766   -37.424188    0.001158   -6.9897   \n",
      "2  1475.9222  166.7496      0   285.760250   -37.422833    0.000671   -9.7775   \n",
      "3  1490.4834  171.1092      0   285.758513   -37.422422    0.001739   -7.0775   \n",
      "4  1633.6290  197.4632      3   285.741437   -37.419945    0.000577  -12.4091   \n",
      "\n",
      "   MAGERR_APER  MAG_AUTO  MAGERR_AUTO  \n",
      "0       0.0004  -13.6936       0.0017  \n",
      "1       0.1352   -7.1726       0.1318  \n",
      "2       0.0104  -10.0816       0.0212  \n",
      "3       0.1247   -7.6900       0.1497  \n",
      "4       0.0009  -12.6723       0.0020  \n"
     ]
    }
   ],
   "source": [
    "# Step 1: Load the table into pandas (skipping the first 10 rows)\n",
    "column_headers = [\n",
    "    'X_IMAGE', 'Y_IMAGE', 'FLAGS', 'ALPHA_J2000', 'DELTA_J2000', \n",
    "    'FWHM_WORLD', 'MAG_APER', 'MAGERR_APER', 'MAG_AUTO', 'MAGERR_AUTO'\n",
    "]\n",
    "# Read the table skipping the first 10 lines and provide the column headers manually\n",
    "\n",
    "path = r\"C:\\Users\\96fan\\Desktop\\OPC\\Part 3\\Sextractor results\\J\"\n",
    "df = pd.read_csv(path + r\"\\test.cat\", delimiter=r'\\s+', skiprows=10, header=None, names=column_headers)\n",
    "\n",
    "# Step 2: Check the first few rows of the data to ensure it looks correct\n",
    "print(df.head())\n",
    "\n",
    "# Step 3: Save the dataframe to a CSV file\n",
    "df.to_csv(path+'\\output_table.csv', index=False)\n",
    "\n",
    "# Optionally, save it as a FITS file\n",
    "\n",
    "# Convert the pandas DataFrame to a FITS table\n",
    "fits_table = fits.BinTableHDU.from_columns([fits.Column(name=col, array=df[col].values, format='E') for col in df.columns])\n",
    "fits_table.writeto(path+r'\\output_table.fits', overwrite=True)"
   ]
  }
 ],
 "metadata": {
  "kernelspec": {
   "display_name": "base",
   "language": "python",
   "name": "python3"
  },
  "language_info": {
   "codemirror_mode": {
    "name": "ipython",
    "version": 3
   },
   "file_extension": ".py",
   "mimetype": "text/x-python",
   "name": "python",
   "nbconvert_exporter": "python",
   "pygments_lexer": "ipython3",
   "version": "3.11.7"
  }
 },
 "nbformat": 4,
 "nbformat_minor": 2
}
